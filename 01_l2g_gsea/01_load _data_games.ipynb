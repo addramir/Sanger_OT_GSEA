{
 "cells": [
  {
   "cell_type": "code",
   "execution_count": 121,
   "id": "e0818ea8",
   "metadata": {},
   "outputs": [],
   "source": [
    "from pyspark.sql import SparkSession\n",
    "import numpy as np\n",
    "import scipy.linalg\n",
    "import pandas as pd\n",
    "from matplotlib import pyplot as plt "
   ]
  },
  {
   "cell_type": "code",
   "execution_count": 2,
   "id": "40bba173",
   "metadata": {},
   "outputs": [
    {
     "name": "stderr",
     "output_type": "stream",
     "text": [
      "Warning: Ignoring non-Spark config property: some_config\n",
      "Setting default log level to \"WARN\".\n",
      "To adjust logging level use sc.setLogLevel(newLevel). For SparkR, use setLogLevel(newLevel).\n"
     ]
    },
    {
     "name": "stdout",
     "output_type": "stream",
     "text": [
      "22/11/17 12:03:13 WARN NativeCodeLoader: Unable to load native-hadoop library for your platform... using builtin-java classes where applicable\n"
     ]
    }
   ],
   "source": [
    "spark = SparkSession.builder.config(\"some_config\", \"some_value\").master(\"local[*]\").getOrCreate()"
   ]
  },
  {
   "cell_type": "code",
   "execution_count": 3,
   "id": "438822d3",
   "metadata": {},
   "outputs": [],
   "source": [
    "genes = spark.read.parquet(\"../../data/genes-index/\")\n",
    "genes=genes.toPandas()"
   ]
  },
  {
   "cell_type": "code",
   "execution_count": 4,
   "id": "8021376c",
   "metadata": {},
   "outputs": [
    {
     "data": {
      "text/html": [
       "<div>\n",
       "<style scoped>\n",
       "    .dataframe tbody tr th:only-of-type {\n",
       "        vertical-align: middle;\n",
       "    }\n",
       "\n",
       "    .dataframe tbody tr th {\n",
       "        vertical-align: top;\n",
       "    }\n",
       "\n",
       "    .dataframe thead th {\n",
       "        text-align: right;\n",
       "    }\n",
       "</style>\n",
       "<table border=\"1\" class=\"dataframe\">\n",
       "  <thead>\n",
       "    <tr style=\"text-align: right;\">\n",
       "      <th></th>\n",
       "      <th>biotype</th>\n",
       "      <th>chr</th>\n",
       "      <th>description</th>\n",
       "      <th>end</th>\n",
       "      <th>exons</th>\n",
       "      <th>fwdstrand</th>\n",
       "      <th>gene_id</th>\n",
       "      <th>gene_name</th>\n",
       "      <th>start</th>\n",
       "      <th>tss</th>\n",
       "    </tr>\n",
       "  </thead>\n",
       "  <tbody>\n",
       "    <tr>\n",
       "      <th>0</th>\n",
       "      <td>protein_coding</td>\n",
       "      <td>1</td>\n",
       "      <td>SCY1 like pseudokinase 3 [Source:HGNC Symbol;A...</td>\n",
       "      <td>169894267</td>\n",
       "      <td>[169870255,169870357,169873696,169873752,16984...</td>\n",
       "      <td>0</td>\n",
       "      <td>ENSG00000000457</td>\n",
       "      <td>SCYL3</td>\n",
       "      <td>169849631</td>\n",
       "      <td>169894267</td>\n",
       "    </tr>\n",
       "    <tr>\n",
       "      <th>1</th>\n",
       "      <td>protein_coding</td>\n",
       "      <td>1</td>\n",
       "      <td>chromosome 1 open reading frame 112 [Source:HG...</td>\n",
       "      <td>169854080</td>\n",
       "      <td>[169849500,169849604,169795040,169795115,16980...</td>\n",
       "      <td>1</td>\n",
       "      <td>ENSG00000000460</td>\n",
       "      <td>C1orf112</td>\n",
       "      <td>169662007</td>\n",
       "      <td>169662007</td>\n",
       "    </tr>\n",
       "    <tr>\n",
       "      <th>2</th>\n",
       "      <td>protein_coding</td>\n",
       "      <td>1</td>\n",
       "      <td>FGR proto-oncogene, Src family tyrosine kinase...</td>\n",
       "      <td>27635185</td>\n",
       "      <td>[27612064,27613122,27613219,27613350,27614430,...</td>\n",
       "      <td>0</td>\n",
       "      <td>ENSG00000000938</td>\n",
       "      <td>FGR</td>\n",
       "      <td>27612064</td>\n",
       "      <td>27635185</td>\n",
       "    </tr>\n",
       "    <tr>\n",
       "      <th>3</th>\n",
       "      <td>protein_coding</td>\n",
       "      <td>1</td>\n",
       "      <td>complement factor H [Source:HGNC Symbol;Acc:HG...</td>\n",
       "      <td>196752476</td>\n",
       "      <td>[196652043,196652175,196672978,196673163,19667...</td>\n",
       "      <td>1</td>\n",
       "      <td>ENSG00000000971</td>\n",
       "      <td>CFH</td>\n",
       "      <td>196651754</td>\n",
       "      <td>196651754</td>\n",
       "    </tr>\n",
       "    <tr>\n",
       "      <th>4</th>\n",
       "      <td>protein_coding</td>\n",
       "      <td>1</td>\n",
       "      <td>sperm tail PG-rich repeat containing 1 [Source...</td>\n",
       "      <td>24416934</td>\n",
       "      <td>[24369674,24369839,24373702,24373810,24356999,...</td>\n",
       "      <td>0</td>\n",
       "      <td>ENSG00000001460</td>\n",
       "      <td>STPG1</td>\n",
       "      <td>24356999</td>\n",
       "      <td>24416934</td>\n",
       "    </tr>\n",
       "    <tr>\n",
       "      <th>...</th>\n",
       "      <td>...</td>\n",
       "      <td>...</td>\n",
       "      <td>...</td>\n",
       "      <td>...</td>\n",
       "      <td>...</td>\n",
       "      <td>...</td>\n",
       "      <td>...</td>\n",
       "      <td>...</td>\n",
       "      <td>...</td>\n",
       "      <td>...</td>\n",
       "    </tr>\n",
       "    <tr>\n",
       "      <th>19594</th>\n",
       "      <td>protein_coding</td>\n",
       "      <td>Y</td>\n",
       "      <td>RNA binding motif protein Y-linked family 1 me...</td>\n",
       "      <td>21918042</td>\n",
       "      <td>[21903622,21904194,21904606,21904694,21904781,...</td>\n",
       "      <td>0</td>\n",
       "      <td>ENSG00000242389</td>\n",
       "      <td>RBMY1E</td>\n",
       "      <td>21903618</td>\n",
       "      <td>21918042</td>\n",
       "    </tr>\n",
       "    <tr>\n",
       "      <th>19595</th>\n",
       "      <td>protein_coding</td>\n",
       "      <td>Y</td>\n",
       "      <td>RNA binding motif protein Y-linked family 1 me...</td>\n",
       "      <td>21549094</td>\n",
       "      <td>[21513347,21513459,21525210,21525786,21524710,...</td>\n",
       "      <td>1</td>\n",
       "      <td>ENSG00000242875</td>\n",
       "      <td>RBMY1B</td>\n",
       "      <td>21511338</td>\n",
       "      <td>21511338</td>\n",
       "    </tr>\n",
       "    <tr>\n",
       "      <th>19596</th>\n",
       "      <td>protein_coding</td>\n",
       "      <td>Y</td>\n",
       "      <td>RNA binding motif protein Y-linked family 1 me...</td>\n",
       "      <td>21894526</td>\n",
       "      <td>[21891825,21891928,21892405,21892517,21894379,...</td>\n",
       "      <td>0</td>\n",
       "      <td>ENSG00000244395</td>\n",
       "      <td>RBMY1D</td>\n",
       "      <td>21880076</td>\n",
       "      <td>21894526</td>\n",
       "    </tr>\n",
       "    <tr>\n",
       "      <th>19597</th>\n",
       "      <td>protein_coding</td>\n",
       "      <td>Y</td>\n",
       "      <td>testis specific protein Y-linked 1 [Source:HGN...</td>\n",
       "      <td>9469749</td>\n",
       "      <td>[9469539,9469749,9468765,9468846,9468513,94686...</td>\n",
       "      <td>1</td>\n",
       "      <td>ENSG00000258992</td>\n",
       "      <td>TSPY1</td>\n",
       "      <td>9466955</td>\n",
       "      <td>9466955</td>\n",
       "    </tr>\n",
       "    <tr>\n",
       "      <th>19598</th>\n",
       "      <td>protein_coding</td>\n",
       "      <td>Y</td>\n",
       "      <td>ribosomal protein S4 Y-linked 2 [Source:HGNC S...</td>\n",
       "      <td>20781032</td>\n",
       "      <td>[20761284,20761381,20759868,20760048,20756778,...</td>\n",
       "      <td>1</td>\n",
       "      <td>ENSG00000280969</td>\n",
       "      <td>RPS4Y2</td>\n",
       "      <td>20756108</td>\n",
       "      <td>20756108</td>\n",
       "    </tr>\n",
       "  </tbody>\n",
       "</table>\n",
       "<p>19599 rows × 10 columns</p>\n",
       "</div>"
      ],
      "text/plain": [
       "              biotype chr                                        description  \\\n",
       "0      protein_coding   1  SCY1 like pseudokinase 3 [Source:HGNC Symbol;A...   \n",
       "1      protein_coding   1  chromosome 1 open reading frame 112 [Source:HG...   \n",
       "2      protein_coding   1  FGR proto-oncogene, Src family tyrosine kinase...   \n",
       "3      protein_coding   1  complement factor H [Source:HGNC Symbol;Acc:HG...   \n",
       "4      protein_coding   1  sperm tail PG-rich repeat containing 1 [Source...   \n",
       "...               ...  ..                                                ...   \n",
       "19594  protein_coding   Y  RNA binding motif protein Y-linked family 1 me...   \n",
       "19595  protein_coding   Y  RNA binding motif protein Y-linked family 1 me...   \n",
       "19596  protein_coding   Y  RNA binding motif protein Y-linked family 1 me...   \n",
       "19597  protein_coding   Y  testis specific protein Y-linked 1 [Source:HGN...   \n",
       "19598  protein_coding   Y  ribosomal protein S4 Y-linked 2 [Source:HGNC S...   \n",
       "\n",
       "             end                                              exons  \\\n",
       "0      169894267  [169870255,169870357,169873696,169873752,16984...   \n",
       "1      169854080  [169849500,169849604,169795040,169795115,16980...   \n",
       "2       27635185  [27612064,27613122,27613219,27613350,27614430,...   \n",
       "3      196752476  [196652043,196652175,196672978,196673163,19667...   \n",
       "4       24416934  [24369674,24369839,24373702,24373810,24356999,...   \n",
       "...          ...                                                ...   \n",
       "19594   21918042  [21903622,21904194,21904606,21904694,21904781,...   \n",
       "19595   21549094  [21513347,21513459,21525210,21525786,21524710,...   \n",
       "19596   21894526  [21891825,21891928,21892405,21892517,21894379,...   \n",
       "19597    9469749  [9469539,9469749,9468765,9468846,9468513,94686...   \n",
       "19598   20781032  [20761284,20761381,20759868,20760048,20756778,...   \n",
       "\n",
       "       fwdstrand          gene_id gene_name      start        tss  \n",
       "0              0  ENSG00000000457     SCYL3  169849631  169894267  \n",
       "1              1  ENSG00000000460  C1orf112  169662007  169662007  \n",
       "2              0  ENSG00000000938       FGR   27612064   27635185  \n",
       "3              1  ENSG00000000971       CFH  196651754  196651754  \n",
       "4              0  ENSG00000001460     STPG1   24356999   24416934  \n",
       "...          ...              ...       ...        ...        ...  \n",
       "19594          0  ENSG00000242389    RBMY1E   21903618   21918042  \n",
       "19595          1  ENSG00000242875    RBMY1B   21511338   21511338  \n",
       "19596          0  ENSG00000244395    RBMY1D   21880076   21894526  \n",
       "19597          1  ENSG00000258992     TSPY1    9466955    9466955  \n",
       "19598          1  ENSG00000280969    RPS4Y2   20756108   20756108  \n",
       "\n",
       "[19599 rows x 10 columns]"
      ]
     },
     "execution_count": 4,
     "metadata": {},
     "output_type": "execute_result"
    }
   ],
   "source": [
    "genes"
   ]
  },
  {
   "cell_type": "code",
   "execution_count": 19,
   "id": "d1e875cd",
   "metadata": {},
   "outputs": [
    {
     "data": {
      "text/plain": [
       "biotype        19599\n",
       "chr            19599\n",
       "description    19599\n",
       "end            19599\n",
       "exons          19599\n",
       "fwdstrand      19599\n",
       "gene_id        19599\n",
       "gene_name      19599\n",
       "start          19599\n",
       "tss            19599\n",
       "dtype: int64"
      ]
     },
     "execution_count": 19,
     "metadata": {},
     "output_type": "execute_result"
    }
   ],
   "source": [
    "genes.count()"
   ]
  },
  {
   "cell_type": "code",
   "execution_count": 5,
   "id": "b20c1328",
   "metadata": {},
   "outputs": [],
   "source": [
    "l2g = spark.read.parquet(\"../../data/l2g_221012_predictions_predictions.full.221012.long.parquet\")\n",
    "#l2g=l2g.toPandas()"
   ]
  },
  {
   "cell_type": "code",
   "execution_count": 8,
   "id": "a22a09d1",
   "metadata": {},
   "outputs": [
    {
     "data": {
      "text/plain": [
       "['study_id',\n",
       " 'chrom',\n",
       " 'pos',\n",
       " 'ref',\n",
       " 'alt',\n",
       " 'gene_id',\n",
       " 'y_pred',\n",
       " 'y_proba',\n",
       " 'training_clf',\n",
       " 'training_ft',\n",
       " 'training_gs',\n",
       " 'training_fold']"
      ]
     },
     "execution_count": 8,
     "metadata": {},
     "output_type": "execute_result"
    }
   ],
   "source": [
    "l2g.columns"
   ]
  },
  {
   "cell_type": "code",
   "execution_count": 38,
   "id": "3ffd5337",
   "metadata": {},
   "outputs": [],
   "source": [
    "l=l2g.filter(l2g.study_id==\"FINNGEN_R6_AB1_CANDIDIASIS\")"
   ]
  },
  {
   "cell_type": "code",
   "execution_count": 36,
   "id": "9507fc89",
   "metadata": {},
   "outputs": [
    {
     "data": {
      "text/plain": [
       "'FINNGEN_R6_AB1_CANDIDIASIS'"
      ]
     },
     "execution_count": 36,
     "metadata": {},
     "output_type": "execute_result"
    }
   ],
   "source": [
    "l2g.take(1)[0][0]"
   ]
  },
  {
   "cell_type": "code",
   "execution_count": 41,
   "id": "74060eb8",
   "metadata": {},
   "outputs": [
    {
     "name": "stderr",
     "output_type": "stream",
     "text": [
      "                                                                                \r"
     ]
    }
   ],
   "source": [
    "l=l.toPandas()"
   ]
  },
  {
   "cell_type": "code",
   "execution_count": 46,
   "id": "265d34de",
   "metadata": {},
   "outputs": [
    {
     "data": {
      "text/plain": [
       "17"
      ]
     },
     "execution_count": 46,
     "metadata": {},
     "output_type": "execute_result"
    }
   ],
   "source": [
    "np.sum((l[\"y_proba\"]>0.5)==1)"
   ]
  },
  {
   "cell_type": "code",
   "execution_count": 47,
   "id": "568f166f",
   "metadata": {},
   "outputs": [
    {
     "data": {
      "text/html": [
       "<div>\n",
       "<style scoped>\n",
       "    .dataframe tbody tr th:only-of-type {\n",
       "        vertical-align: middle;\n",
       "    }\n",
       "\n",
       "    .dataframe tbody tr th {\n",
       "        vertical-align: top;\n",
       "    }\n",
       "\n",
       "    .dataframe thead th {\n",
       "        text-align: right;\n",
       "    }\n",
       "</style>\n",
       "<table border=\"1\" class=\"dataframe\">\n",
       "  <thead>\n",
       "    <tr style=\"text-align: right;\">\n",
       "      <th></th>\n",
       "      <th>study_id</th>\n",
       "      <th>chrom</th>\n",
       "      <th>pos</th>\n",
       "      <th>ref</th>\n",
       "      <th>alt</th>\n",
       "      <th>gene_id</th>\n",
       "      <th>y_pred</th>\n",
       "      <th>y_proba</th>\n",
       "      <th>training_clf</th>\n",
       "      <th>training_ft</th>\n",
       "      <th>training_gs</th>\n",
       "      <th>training_fold</th>\n",
       "    </tr>\n",
       "  </thead>\n",
       "  <tbody>\n",
       "    <tr>\n",
       "      <th>0</th>\n",
       "      <td>FINNGEN_R6_AB1_CANDIDIASIS</td>\n",
       "      <td>1</td>\n",
       "      <td>225395362</td>\n",
       "      <td>G</td>\n",
       "      <td>T</td>\n",
       "      <td>ENSG00000143815</td>\n",
       "      <td>0</td>\n",
       "      <td>0.090216</td>\n",
       "      <td>xgboost</td>\n",
       "      <td>logi_pathogenicity</td>\n",
       "      <td>high_medium</td>\n",
       "      <td>fold0=1|3|8</td>\n",
       "    </tr>\n",
       "    <tr>\n",
       "      <th>1</th>\n",
       "      <td>FINNGEN_R6_AB1_CANDIDIASIS</td>\n",
       "      <td>1</td>\n",
       "      <td>225395362</td>\n",
       "      <td>G</td>\n",
       "      <td>T</td>\n",
       "      <td>ENSG00000154380</td>\n",
       "      <td>1</td>\n",
       "      <td>0.582386</td>\n",
       "      <td>xgboost</td>\n",
       "      <td>logi_pathogenicity</td>\n",
       "      <td>high_medium</td>\n",
       "      <td>fold0=1|3|8</td>\n",
       "    </tr>\n",
       "    <tr>\n",
       "      <th>2</th>\n",
       "      <td>FINNGEN_R6_AB1_CANDIDIASIS</td>\n",
       "      <td>1</td>\n",
       "      <td>225395362</td>\n",
       "      <td>G</td>\n",
       "      <td>T</td>\n",
       "      <td>ENSG00000143742</td>\n",
       "      <td>0</td>\n",
       "      <td>0.090162</td>\n",
       "      <td>xgboost</td>\n",
       "      <td>logi_pathogenicity</td>\n",
       "      <td>high_medium</td>\n",
       "      <td>fold0=1|3|8</td>\n",
       "    </tr>\n",
       "    <tr>\n",
       "      <th>3</th>\n",
       "      <td>FINNGEN_R6_AB1_CANDIDIASIS</td>\n",
       "      <td>1</td>\n",
       "      <td>225395362</td>\n",
       "      <td>G</td>\n",
       "      <td>T</td>\n",
       "      <td>ENSG00000143819</td>\n",
       "      <td>0</td>\n",
       "      <td>0.091063</td>\n",
       "      <td>xgboost</td>\n",
       "      <td>logi_pathogenicity</td>\n",
       "      <td>high_medium</td>\n",
       "      <td>fold0=1|3|8</td>\n",
       "    </tr>\n",
       "    <tr>\n",
       "      <th>4</th>\n",
       "      <td>FINNGEN_R6_AB1_CANDIDIASIS</td>\n",
       "      <td>1</td>\n",
       "      <td>225395362</td>\n",
       "      <td>G</td>\n",
       "      <td>T</td>\n",
       "      <td>ENSG00000185842</td>\n",
       "      <td>1</td>\n",
       "      <td>0.587545</td>\n",
       "      <td>xgboost</td>\n",
       "      <td>logi_pathogenicity</td>\n",
       "      <td>high_medium</td>\n",
       "      <td>fold0=1|3|8</td>\n",
       "    </tr>\n",
       "    <tr>\n",
       "      <th>...</th>\n",
       "      <td>...</td>\n",
       "      <td>...</td>\n",
       "      <td>...</td>\n",
       "      <td>...</td>\n",
       "      <td>...</td>\n",
       "      <td>...</td>\n",
       "      <td>...</td>\n",
       "      <td>...</td>\n",
       "      <td>...</td>\n",
       "      <td>...</td>\n",
       "      <td>...</td>\n",
       "      <td>...</td>\n",
       "    </tr>\n",
       "    <tr>\n",
       "      <th>94</th>\n",
       "      <td>FINNGEN_R6_AB1_CANDIDIASIS</td>\n",
       "      <td>1</td>\n",
       "      <td>225395362</td>\n",
       "      <td>G</td>\n",
       "      <td>T</td>\n",
       "      <td>ENSG00000143742</td>\n",
       "      <td>0</td>\n",
       "      <td>0.015715</td>\n",
       "      <td>xgboost</td>\n",
       "      <td>logo_interaction</td>\n",
       "      <td>high_medium</td>\n",
       "      <td>fold0=1|3|8</td>\n",
       "    </tr>\n",
       "    <tr>\n",
       "      <th>95</th>\n",
       "      <td>FINNGEN_R6_AB1_CANDIDIASIS</td>\n",
       "      <td>1</td>\n",
       "      <td>225395362</td>\n",
       "      <td>G</td>\n",
       "      <td>T</td>\n",
       "      <td>ENSG00000143819</td>\n",
       "      <td>0</td>\n",
       "      <td>0.019695</td>\n",
       "      <td>xgboost</td>\n",
       "      <td>logo_interaction</td>\n",
       "      <td>high_medium</td>\n",
       "      <td>fold0=1|3|8</td>\n",
       "    </tr>\n",
       "    <tr>\n",
       "      <th>96</th>\n",
       "      <td>FINNGEN_R6_AB1_CANDIDIASIS</td>\n",
       "      <td>1</td>\n",
       "      <td>225395362</td>\n",
       "      <td>G</td>\n",
       "      <td>T</td>\n",
       "      <td>ENSG00000185842</td>\n",
       "      <td>0</td>\n",
       "      <td>0.186249</td>\n",
       "      <td>xgboost</td>\n",
       "      <td>logo_interaction</td>\n",
       "      <td>high_medium</td>\n",
       "      <td>fold0=1|3|8</td>\n",
       "    </tr>\n",
       "    <tr>\n",
       "      <th>97</th>\n",
       "      <td>FINNGEN_R6_AB1_CANDIDIASIS</td>\n",
       "      <td>1</td>\n",
       "      <td>225395362</td>\n",
       "      <td>G</td>\n",
       "      <td>T</td>\n",
       "      <td>ENSG00000196187</td>\n",
       "      <td>0</td>\n",
       "      <td>0.018983</td>\n",
       "      <td>xgboost</td>\n",
       "      <td>logo_interaction</td>\n",
       "      <td>high_medium</td>\n",
       "      <td>fold0=1|3|8</td>\n",
       "    </tr>\n",
       "    <tr>\n",
       "      <th>98</th>\n",
       "      <td>FINNGEN_R6_AB1_CANDIDIASIS</td>\n",
       "      <td>1</td>\n",
       "      <td>225395362</td>\n",
       "      <td>G</td>\n",
       "      <td>T</td>\n",
       "      <td>ENSG00000243709</td>\n",
       "      <td>0</td>\n",
       "      <td>0.016298</td>\n",
       "      <td>xgboost</td>\n",
       "      <td>logo_interaction</td>\n",
       "      <td>high_medium</td>\n",
       "      <td>fold0=1|3|8</td>\n",
       "    </tr>\n",
       "  </tbody>\n",
       "</table>\n",
       "<p>99 rows × 12 columns</p>\n",
       "</div>"
      ],
      "text/plain": [
       "                      study_id chrom        pos ref alt          gene_id  \\\n",
       "0   FINNGEN_R6_AB1_CANDIDIASIS     1  225395362   G   T  ENSG00000143815   \n",
       "1   FINNGEN_R6_AB1_CANDIDIASIS     1  225395362   G   T  ENSG00000154380   \n",
       "2   FINNGEN_R6_AB1_CANDIDIASIS     1  225395362   G   T  ENSG00000143742   \n",
       "3   FINNGEN_R6_AB1_CANDIDIASIS     1  225395362   G   T  ENSG00000143819   \n",
       "4   FINNGEN_R6_AB1_CANDIDIASIS     1  225395362   G   T  ENSG00000185842   \n",
       "..                         ...   ...        ...  ..  ..              ...   \n",
       "94  FINNGEN_R6_AB1_CANDIDIASIS     1  225395362   G   T  ENSG00000143742   \n",
       "95  FINNGEN_R6_AB1_CANDIDIASIS     1  225395362   G   T  ENSG00000143819   \n",
       "96  FINNGEN_R6_AB1_CANDIDIASIS     1  225395362   G   T  ENSG00000185842   \n",
       "97  FINNGEN_R6_AB1_CANDIDIASIS     1  225395362   G   T  ENSG00000196187   \n",
       "98  FINNGEN_R6_AB1_CANDIDIASIS     1  225395362   G   T  ENSG00000243709   \n",
       "\n",
       "    y_pred   y_proba training_clf         training_ft  training_gs  \\\n",
       "0        0  0.090216      xgboost  logi_pathogenicity  high_medium   \n",
       "1        1  0.582386      xgboost  logi_pathogenicity  high_medium   \n",
       "2        0  0.090162      xgboost  logi_pathogenicity  high_medium   \n",
       "3        0  0.091063      xgboost  logi_pathogenicity  high_medium   \n",
       "4        1  0.587545      xgboost  logi_pathogenicity  high_medium   \n",
       "..     ...       ...          ...                 ...          ...   \n",
       "94       0  0.015715      xgboost    logo_interaction  high_medium   \n",
       "95       0  0.019695      xgboost    logo_interaction  high_medium   \n",
       "96       0  0.186249      xgboost    logo_interaction  high_medium   \n",
       "97       0  0.018983      xgboost    logo_interaction  high_medium   \n",
       "98       0  0.016298      xgboost    logo_interaction  high_medium   \n",
       "\n",
       "   training_fold  \n",
       "0    fold0=1|3|8  \n",
       "1    fold0=1|3|8  \n",
       "2    fold0=1|3|8  \n",
       "3    fold0=1|3|8  \n",
       "4    fold0=1|3|8  \n",
       "..           ...  \n",
       "94   fold0=1|3|8  \n",
       "95   fold0=1|3|8  \n",
       "96   fold0=1|3|8  \n",
       "97   fold0=1|3|8  \n",
       "98   fold0=1|3|8  \n",
       "\n",
       "[99 rows x 12 columns]"
      ]
     },
     "execution_count": 47,
     "metadata": {},
     "output_type": "execute_result"
    }
   ],
   "source": [
    "l"
   ]
  },
  {
   "cell_type": "code",
   "execution_count": 115,
   "id": "c1bfca46",
   "metadata": {},
   "outputs": [
    {
     "data": {
      "text/plain": [
       "(array([Column<'gene_id'>], dtype=object), array([1]))"
      ]
     },
     "execution_count": 115,
     "metadata": {},
     "output_type": "execute_result"
    }
   ],
   "source": [
    "np.unique(l[\"gene_id\"], return_counts=True)"
   ]
  },
  {
   "cell_type": "code",
   "execution_count": 51,
   "id": "07778acd",
   "metadata": {},
   "outputs": [
    {
     "data": {
      "text/plain": [
       "(array(['dist_foot', 'dist_tss', 'full_model', 'logi_distance',\n",
       "        'logi_interaction', 'logi_molecularQTL', 'logi_pathogenicity',\n",
       "        'logo_distance', 'logo_interaction', 'logo_molecularQTL',\n",
       "        'logo_pathogenicity'], dtype=object),\n",
       " array([9, 9, 9, 9, 9, 9, 9, 9, 9, 9, 9]))"
      ]
     },
     "execution_count": 51,
     "metadata": {},
     "output_type": "execute_result"
    }
   ],
   "source": [
    "np.unique(l[\"training_ft\"], return_counts=True)"
   ]
  },
  {
   "cell_type": "code",
   "execution_count": 52,
   "id": "b7cf8539",
   "metadata": {},
   "outputs": [],
   "source": [
    "l=l2g.filter(l2g.training_ft==\"full_model\")"
   ]
  },
  {
   "cell_type": "code",
   "execution_count": 54,
   "id": "59bed241",
   "metadata": {},
   "outputs": [],
   "source": [
    "l_5=l.filter(l.y_proba>=0.5)"
   ]
  },
  {
   "cell_type": "code",
   "execution_count": 55,
   "id": "2f28d6cf",
   "metadata": {},
   "outputs": [
    {
     "name": "stderr",
     "output_type": "stream",
     "text": [
      "                                                                                \r"
     ]
    },
    {
     "data": {
      "text/plain": [
       "206751"
      ]
     },
     "execution_count": 55,
     "metadata": {},
     "output_type": "execute_result"
    }
   ],
   "source": [
    "l_5.count()"
   ]
  },
  {
   "cell_type": "code",
   "execution_count": 56,
   "id": "d29bf7f2",
   "metadata": {},
   "outputs": [
    {
     "name": "stderr",
     "output_type": "stream",
     "text": [
      "                                                                                \r"
     ]
    }
   ],
   "source": [
    "l5d=l_5.toPandas()"
   ]
  },
  {
   "cell_type": "code",
   "execution_count": 57,
   "id": "58391589",
   "metadata": {},
   "outputs": [
    {
     "data": {
      "text/html": [
       "<div>\n",
       "<style scoped>\n",
       "    .dataframe tbody tr th:only-of-type {\n",
       "        vertical-align: middle;\n",
       "    }\n",
       "\n",
       "    .dataframe tbody tr th {\n",
       "        vertical-align: top;\n",
       "    }\n",
       "\n",
       "    .dataframe thead th {\n",
       "        text-align: right;\n",
       "    }\n",
       "</style>\n",
       "<table border=\"1\" class=\"dataframe\">\n",
       "  <thead>\n",
       "    <tr style=\"text-align: right;\">\n",
       "      <th></th>\n",
       "      <th>study_id</th>\n",
       "      <th>chrom</th>\n",
       "      <th>pos</th>\n",
       "      <th>ref</th>\n",
       "      <th>alt</th>\n",
       "      <th>gene_id</th>\n",
       "      <th>y_pred</th>\n",
       "      <th>y_proba</th>\n",
       "      <th>training_clf</th>\n",
       "      <th>training_ft</th>\n",
       "      <th>training_gs</th>\n",
       "      <th>training_fold</th>\n",
       "    </tr>\n",
       "  </thead>\n",
       "  <tbody>\n",
       "    <tr>\n",
       "      <th>0</th>\n",
       "      <td>FINNGEN_R6_ALLERG_RHINITIS</td>\n",
       "      <td>2</td>\n",
       "      <td>102447060</td>\n",
       "      <td>G</td>\n",
       "      <td>A</td>\n",
       "      <td>ENSG00000115602</td>\n",
       "      <td>1</td>\n",
       "      <td>0.614185</td>\n",
       "      <td>xgboost</td>\n",
       "      <td>full_model</td>\n",
       "      <td>high_medium</td>\n",
       "      <td>fold3=17|7|12|2</td>\n",
       "    </tr>\n",
       "    <tr>\n",
       "      <th>1</th>\n",
       "      <td>FINNGEN_R6_DM_OTHER_WIDE</td>\n",
       "      <td>7</td>\n",
       "      <td>102446158</td>\n",
       "      <td>A</td>\n",
       "      <td>T</td>\n",
       "      <td>ENSG00000160991</td>\n",
       "      <td>1</td>\n",
       "      <td>0.600931</td>\n",
       "      <td>xgboost</td>\n",
       "      <td>full_model</td>\n",
       "      <td>high_medium</td>\n",
       "      <td>fold3=17|7|12|2</td>\n",
       "    </tr>\n",
       "    <tr>\n",
       "      <th>2</th>\n",
       "      <td>FINNGEN_R6_ASTHMA_PNEUMONIA</td>\n",
       "      <td>2</td>\n",
       "      <td>102324549</td>\n",
       "      <td>G</td>\n",
       "      <td>A</td>\n",
       "      <td>ENSG00000115604</td>\n",
       "      <td>1</td>\n",
       "      <td>0.638566</td>\n",
       "      <td>xgboost</td>\n",
       "      <td>full_model</td>\n",
       "      <td>high_medium</td>\n",
       "      <td>fold3=17|7|12|2</td>\n",
       "    </tr>\n",
       "    <tr>\n",
       "      <th>3</th>\n",
       "      <td>FINNGEN_R6_ALCOPANCCHRON</td>\n",
       "      <td>7</td>\n",
       "      <td>142762093</td>\n",
       "      <td>C</td>\n",
       "      <td>G</td>\n",
       "      <td>ENSG00000275896</td>\n",
       "      <td>1</td>\n",
       "      <td>0.591764</td>\n",
       "      <td>xgboost</td>\n",
       "      <td>full_model</td>\n",
       "      <td>high_medium</td>\n",
       "      <td>fold3=17|7|12|2</td>\n",
       "    </tr>\n",
       "    <tr>\n",
       "      <th>4</th>\n",
       "      <td>FINNGEN_R6_APPENDACUT_NOCOMPLIC</td>\n",
       "      <td>2</td>\n",
       "      <td>19289199</td>\n",
       "      <td>C</td>\n",
       "      <td>T</td>\n",
       "      <td>ENSG00000143867</td>\n",
       "      <td>1</td>\n",
       "      <td>0.756094</td>\n",
       "      <td>xgboost</td>\n",
       "      <td>full_model</td>\n",
       "      <td>high_medium</td>\n",
       "      <td>fold3=17|7|12|2</td>\n",
       "    </tr>\n",
       "    <tr>\n",
       "      <th>...</th>\n",
       "      <td>...</td>\n",
       "      <td>...</td>\n",
       "      <td>...</td>\n",
       "      <td>...</td>\n",
       "      <td>...</td>\n",
       "      <td>...</td>\n",
       "      <td>...</td>\n",
       "      <td>...</td>\n",
       "      <td>...</td>\n",
       "      <td>...</td>\n",
       "      <td>...</td>\n",
       "      <td>...</td>\n",
       "    </tr>\n",
       "    <tr>\n",
       "      <th>206746</th>\n",
       "      <td>SAIGE_459_9</td>\n",
       "      <td>4</td>\n",
       "      <td>154623920</td>\n",
       "      <td>A</td>\n",
       "      <td>T</td>\n",
       "      <td>ENSG00000171557</td>\n",
       "      <td>1</td>\n",
       "      <td>0.768390</td>\n",
       "      <td>xgboost</td>\n",
       "      <td>full_model</td>\n",
       "      <td>high_medium</td>\n",
       "      <td>fold2=9|11|18|20|4</td>\n",
       "    </tr>\n",
       "    <tr>\n",
       "      <th>206747</th>\n",
       "      <td>SAIGE_366</td>\n",
       "      <td>9</td>\n",
       "      <td>22088261</td>\n",
       "      <td>C</td>\n",
       "      <td>T</td>\n",
       "      <td>ENSG00000147889</td>\n",
       "      <td>1</td>\n",
       "      <td>0.687749</td>\n",
       "      <td>xgboost</td>\n",
       "      <td>full_model</td>\n",
       "      <td>high_medium</td>\n",
       "      <td>fold2=9|11|18|20|4</td>\n",
       "    </tr>\n",
       "    <tr>\n",
       "      <th>206748</th>\n",
       "      <td>SAIGE_411</td>\n",
       "      <td>4</td>\n",
       "      <td>155724361</td>\n",
       "      <td>C</td>\n",
       "      <td>A</td>\n",
       "      <td>ENSG00000164116</td>\n",
       "      <td>1</td>\n",
       "      <td>0.876271</td>\n",
       "      <td>xgboost</td>\n",
       "      <td>full_model</td>\n",
       "      <td>high_medium</td>\n",
       "      <td>fold2=9|11|18|20|4</td>\n",
       "    </tr>\n",
       "    <tr>\n",
       "      <th>206749</th>\n",
       "      <td>SAIGE_366_2</td>\n",
       "      <td>9</td>\n",
       "      <td>22206988</td>\n",
       "      <td>C</td>\n",
       "      <td>T</td>\n",
       "      <td>ENSG00000147883</td>\n",
       "      <td>1</td>\n",
       "      <td>0.504806</td>\n",
       "      <td>xgboost</td>\n",
       "      <td>full_model</td>\n",
       "      <td>high_medium</td>\n",
       "      <td>fold2=9|11|18|20|4</td>\n",
       "    </tr>\n",
       "    <tr>\n",
       "      <th>206750</th>\n",
       "      <td>SAIGE_716_9</td>\n",
       "      <td>9</td>\n",
       "      <td>114131307</td>\n",
       "      <td>A</td>\n",
       "      <td>C</td>\n",
       "      <td>ENSG00000196739</td>\n",
       "      <td>1</td>\n",
       "      <td>0.784017</td>\n",
       "      <td>xgboost</td>\n",
       "      <td>full_model</td>\n",
       "      <td>high_medium</td>\n",
       "      <td>fold2=9|11|18|20|4</td>\n",
       "    </tr>\n",
       "  </tbody>\n",
       "</table>\n",
       "<p>206751 rows × 12 columns</p>\n",
       "</div>"
      ],
      "text/plain": [
       "                               study_id chrom        pos ref alt  \\\n",
       "0            FINNGEN_R6_ALLERG_RHINITIS     2  102447060   G   A   \n",
       "1              FINNGEN_R6_DM_OTHER_WIDE     7  102446158   A   T   \n",
       "2           FINNGEN_R6_ASTHMA_PNEUMONIA     2  102324549   G   A   \n",
       "3              FINNGEN_R6_ALCOPANCCHRON     7  142762093   C   G   \n",
       "4       FINNGEN_R6_APPENDACUT_NOCOMPLIC     2   19289199   C   T   \n",
       "...                                 ...   ...        ...  ..  ..   \n",
       "206746                      SAIGE_459_9     4  154623920   A   T   \n",
       "206747                        SAIGE_366     9   22088261   C   T   \n",
       "206748                        SAIGE_411     4  155724361   C   A   \n",
       "206749                      SAIGE_366_2     9   22206988   C   T   \n",
       "206750                      SAIGE_716_9     9  114131307   A   C   \n",
       "\n",
       "                gene_id  y_pred   y_proba training_clf training_ft  \\\n",
       "0       ENSG00000115602       1  0.614185      xgboost  full_model   \n",
       "1       ENSG00000160991       1  0.600931      xgboost  full_model   \n",
       "2       ENSG00000115604       1  0.638566      xgboost  full_model   \n",
       "3       ENSG00000275896       1  0.591764      xgboost  full_model   \n",
       "4       ENSG00000143867       1  0.756094      xgboost  full_model   \n",
       "...                 ...     ...       ...          ...         ...   \n",
       "206746  ENSG00000171557       1  0.768390      xgboost  full_model   \n",
       "206747  ENSG00000147889       1  0.687749      xgboost  full_model   \n",
       "206748  ENSG00000164116       1  0.876271      xgboost  full_model   \n",
       "206749  ENSG00000147883       1  0.504806      xgboost  full_model   \n",
       "206750  ENSG00000196739       1  0.784017      xgboost  full_model   \n",
       "\n",
       "        training_gs       training_fold  \n",
       "0       high_medium     fold3=17|7|12|2  \n",
       "1       high_medium     fold3=17|7|12|2  \n",
       "2       high_medium     fold3=17|7|12|2  \n",
       "3       high_medium     fold3=17|7|12|2  \n",
       "4       high_medium     fold3=17|7|12|2  \n",
       "...             ...                 ...  \n",
       "206746  high_medium  fold2=9|11|18|20|4  \n",
       "206747  high_medium  fold2=9|11|18|20|4  \n",
       "206748  high_medium  fold2=9|11|18|20|4  \n",
       "206749  high_medium  fold2=9|11|18|20|4  \n",
       "206750  high_medium  fold2=9|11|18|20|4  \n",
       "\n",
       "[206751 rows x 12 columns]"
      ]
     },
     "execution_count": 57,
     "metadata": {},
     "output_type": "execute_result"
    }
   ],
   "source": [
    "l5d"
   ]
  },
  {
   "cell_type": "code",
   "execution_count": 88,
   "id": "807f8e5f",
   "metadata": {},
   "outputs": [],
   "source": [
    "S=np.unique(l5d[\"study_id\"], return_counts=True)"
   ]
  },
  {
   "cell_type": "code",
   "execution_count": 89,
   "id": "3fc4bc7c",
   "metadata": {},
   "outputs": [
    {
     "data": {
      "text/plain": [
       "(array([False,  True]), array([15023,  2276]))"
      ]
     },
     "execution_count": 89,
     "metadata": {},
     "output_type": "execute_result"
    }
   ],
   "source": [
    "np.unique(S[1]>=10, return_counts=True)"
   ]
  },
  {
   "cell_type": "code",
   "execution_count": 86,
   "id": "9b6d512d",
   "metadata": {},
   "outputs": [
    {
     "data": {
      "text/plain": [
       "(17299,)"
      ]
     },
     "execution_count": 86,
     "metadata": {},
     "output_type": "execute_result"
    }
   ],
   "source": [
    "S[0].shape"
   ]
  },
  {
   "cell_type": "code",
   "execution_count": 70,
   "id": "affd3ba1",
   "metadata": {},
   "outputs": [
    {
     "data": {
      "text/plain": [
       "array(['GCST90025949'], dtype=object)"
      ]
     },
     "execution_count": 70,
     "metadata": {},
     "output_type": "execute_result"
    }
   ],
   "source": [
    "S[0][S[1]>=1000]"
   ]
  },
  {
   "cell_type": "code",
   "execution_count": 87,
   "id": "2edac0f8",
   "metadata": {},
   "outputs": [
    {
     "data": {
      "text/plain": [
       "190.0"
      ]
     },
     "execution_count": 87,
     "metadata": {},
     "output_type": "execute_result"
    }
   ],
   "source": [
    "0.01*19000"
   ]
  },
  {
   "cell_type": "code",
   "execution_count": 101,
   "id": "13e1843a",
   "metadata": {},
   "outputs": [
    {
     "data": {
      "text/plain": [
       "array([False, False, False, ..., False, False, False])"
      ]
     },
     "execution_count": 101,
     "metadata": {},
     "output_type": "execute_result"
    }
   ],
   "source": [
    "x=S[1]>=10\n",
    "x"
   ]
  },
  {
   "cell_type": "code",
   "execution_count": 112,
   "id": "9da38014",
   "metadata": {},
   "outputs": [
    {
     "data": {
      "text/plain": [
       "(206751, 12)"
      ]
     },
     "execution_count": 112,
     "metadata": {},
     "output_type": "execute_result"
    }
   ],
   "source": [
    "l5d[l5d[\"study_id\"]==\"SAIGE_459_9\"]\n",
    "x.shape\n",
    "l5d.shape"
   ]
  },
  {
   "cell_type": "code",
   "execution_count": 99,
   "id": "64f2e0a8",
   "metadata": {},
   "outputs": [
    {
     "data": {
      "text/plain": [
       "0         False\n",
       "1         False\n",
       "2         False\n",
       "3         False\n",
       "4         False\n",
       "          ...  \n",
       "206746     True\n",
       "206747    False\n",
       "206748    False\n",
       "206749    False\n",
       "206750    False\n",
       "Name: study_id, Length: 206751, dtype: bool"
      ]
     },
     "execution_count": 99,
     "metadata": {},
     "output_type": "execute_result"
    }
   ],
   "source": [
    "l5d[\"study_id\"]==\"SAIGE_459_9\""
   ]
  },
  {
   "cell_type": "code",
   "execution_count": 103,
   "id": "504293d4",
   "metadata": {},
   "outputs": [
    {
     "data": {
      "text/plain": [
       "array([False, False, False, ..., False, False, False])"
      ]
     },
     "execution_count": 103,
     "metadata": {},
     "output_type": "execute_result"
    }
   ],
   "source": [
    "x.astype(dtype=bool)"
   ]
  },
  {
   "cell_type": "code",
   "execution_count": 138,
   "id": "a2b78e45",
   "metadata": {},
   "outputs": [
    {
     "data": {
      "text/plain": [
       "2.0"
      ]
     },
     "execution_count": 138,
     "metadata": {},
     "output_type": "execute_result"
    },
    {
     "data": {
      "image/png": "[encoded data removed]",
      "text/plain": [
       "<Figure size 640x480 with 1 Axes>"
      ]
     },
     "metadata": {},
     "output_type": "display_data"
    }
   ],
   "source": [
    "plt.hist(S[1],bins=100,range=[1, 30])\n"
   ]
  },
  {
   "cell_type": "code",
   "execution_count": 140,
   "id": "5916e109",
   "metadata": {},
   "outputs": [
    {
     "data": {
      "text/plain": [
       "11.9516157003295"
      ]
     },
     "execution_count": 140,
     "metadata": {},
     "output_type": "execute_result"
    }
   ],
   "source": [
    "np.mean(S[1])\n"
   ]
  },
  {
   "cell_type": "code",
   "execution_count": 141,
   "id": "f7d8819c",
   "metadata": {},
   "outputs": [
    {
     "data": {
      "text/plain": [
       "2.0"
      ]
     },
     "execution_count": 141,
     "metadata": {},
     "output_type": "execute_result"
    }
   ],
   "source": [
    "np.median(S[1])"
   ]
  }
 ],
 "metadata": {
  "kernelspec": {
   "display_name": "Python 3 (ipykernel)",
   "language": "python",
   "name": "python3"
  },
  "language_info": {
   "codemirror_mode": {
    "name": "ipython",
    "version": 3
   },
   "file_extension": ".py",
   "mimetype": "text/x-python",
   "name": "python",
   "nbconvert_exporter": "python",
   "pygments_lexer": "ipython3",
   "version": "3.9.13"
  }
 },
 "nbformat": 4,
 "nbformat_minor": 5
}
